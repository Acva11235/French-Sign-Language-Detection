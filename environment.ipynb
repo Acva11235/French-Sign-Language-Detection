{
 "cells": [
  {
   "cell_type": "code",
   "execution_count": 1,
   "metadata": {},
   "outputs": [
    {
     "name": "stdout",
     "output_type": "stream",
     "text": [
      "Package             Version\n",
      "------------------- ------------\n",
      "asttokens           2.4.1\n",
      "certifi             2024.8.30\n",
      "charset-normalizer  3.4.0\n",
      "colorama            0.4.6\n",
      "comm                0.2.2\n",
      "contourpy           1.3.0\n",
      "cycler              0.12.1\n",
      "debugpy             1.8.8\n",
      "decorator           5.1.1\n",
      "exceptiongroup      1.2.2\n",
      "executing           2.1.0\n",
      "filelock            3.13.1\n",
      "fonttools           4.54.1\n",
      "fsspec              2024.2.0\n",
      "git-filter-repo     2.38.0\n",
      "idna                3.10\n",
      "importlib_metadata  8.5.0\n",
      "importlib_resources 6.4.5\n",
      "ipykernel           6.29.5\n",
      "ipython             8.18.1\n",
      "jedi                0.19.1\n",
      "Jinja2              3.1.3\n",
      "jupyter_client      8.6.3\n",
      "jupyter_core        5.7.2\n",
      "kiwisolver          1.4.7\n",
      "lapx                0.5.11\n",
      "MarkupSafe          2.1.5\n",
      "matplotlib          3.9.2\n",
      "matplotlib-inline   0.1.7\n",
      "mpmath              1.3.0\n",
      "nest-asyncio        1.6.0\n",
      "networkx            3.2.1\n",
      "numpy               1.26.3\n",
      "opencv-python       4.10.0.84\n",
      "optax               0.2.2\n",
      "packaging           24.2\n",
      "pandas              2.2.3\n",
      "parso               0.8.4\n",
      "pillow              10.2.0\n",
      "pip                 24.2\n",
      "platformdirs        4.3.6\n",
      "prompt_toolkit      3.0.48\n",
      "psutil              6.1.0\n",
      "pure_eval           0.2.3\n",
      "py-cpuinfo          9.0.0\n",
      "pygame              2.6.1\n",
      "Pygments            2.18.0\n",
      "pyparsing           3.2.0\n",
      "python-dateutil     2.9.0.post0\n",
      "pytz                2024.2\n",
      "pywin32             308\n",
      "PyYAML              6.0.2\n",
      "pyzmq               26.2.0\n",
      "requests            2.32.3\n",
      "scipy               1.13.1\n",
      "seaborn             0.13.2\n",
      "setuptools          75.1.0\n",
      "six                 1.16.0\n",
      "stack-data          0.6.3\n",
      "sympy               1.13.1\n",
      "torch               2.5.1+cu118\n",
      "torchaudio          2.5.1+cu118\n",
      "torchvision         0.20.1+cu118\n",
      "tornado             6.4.1\n",
      "tqdm                4.67.0\n",
      "traitlets           5.14.3\n",
      "typing_extensions   4.12.2\n",
      "tzdata              2024.2\n",
      "ultralytics         8.3.28\n",
      "ultralytics-thop    2.0.11\n",
      "urllib3             2.2.3\n",
      "wcwidth             0.2.13\n",
      "wheel               0.44.0\n",
      "zipp                3.20.2\n"
     ]
    }
   ],
   "source": [
    "!pip list"
   ]
  },
  {
   "cell_type": "code",
   "execution_count": 2,
   "metadata": {},
   "outputs": [],
   "source": [
    "import torch"
   ]
  },
  {
   "cell_type": "code",
   "execution_count": 3,
   "metadata": {},
   "outputs": [
    {
     "name": "stdout",
     "output_type": "stream",
     "text": [
      "CUDA is available. Using GPU: NVIDIA GeForce RTX 3050 Laptop GPU\n"
     ]
    }
   ],
   "source": [
    "if torch.cuda.is_available():\n",
    "    print(f\"CUDA is available. Using GPU: {torch.cuda.get_device_name(0)}\")\n",
    "else:\n",
    "    print(\"CUDA is not available. Using CPU.\")\n"
   ]
  },
  {
   "cell_type": "code",
   "execution_count": null,
   "metadata": {},
   "outputs": [],
   "source": []
  }
 ],
 "metadata": {
  "kernelspec": {
   "display_name": "pytorchgpu",
   "language": "python",
   "name": "python3"
  },
  "language_info": {
   "codemirror_mode": {
    "name": "ipython",
    "version": 3
   },
   "file_extension": ".py",
   "mimetype": "text/x-python",
   "name": "python",
   "nbconvert_exporter": "python",
   "pygments_lexer": "ipython3",
   "version": "3.9.20"
  }
 },
 "nbformat": 4,
 "nbformat_minor": 2
}
